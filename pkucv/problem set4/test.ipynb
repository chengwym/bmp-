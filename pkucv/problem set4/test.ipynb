{
 "cells": [
  {
   "cell_type": "code",
   "execution_count": 6,
   "metadata": {},
   "outputs": [
    {
     "name": "stdout",
     "output_type": "stream",
     "text": [
      "/home/jbcheng/anaconda3/lib/python3.9/site-packages/mmcv/__init__.py:20: UserWarning: On January 1, 2023, MMCV will release v2.0.0, in which it will remove components related to the training process and add a data transformation module. In addition, it will rename the package names mmcv to mmcv-lite and mmcv-full to mmcv. See https://github.com/open-mmlab/mmcv/blob/master/docs/en/compatibility.md for more details.\n",
      "  warnings.warn(\n",
      "/home/jbcheng/chengw/pkucv/mmdetection/mmdet/utils/setup_env.py:38: UserWarning: Setting OMP_NUM_THREADS environment variable for each process to be 1 in default, to avoid your system being overloaded, please further tune the variable for optimal performance in your application as needed.\n",
      "  warnings.warn(\n",
      "/home/jbcheng/chengw/pkucv/mmdetection/mmdet/utils/setup_env.py:48: UserWarning: Setting MKL_NUM_THREADS environment variable for each process to be 1 in default, to avoid your system being overloaded, please further tune the variable for optimal performance in your application as needed.\n",
      "  warnings.warn(\n",
      "load checkpoint from local path: tutorial_exps/latest.pth\n",
      "[                                                  ] 0/60, elapsed: 0s, ETA:/home/jbcheng/anaconda3/lib/python3.9/site-packages/torch/nn/functional.py:718: UserWarning: Named tensors and all their associated APIs are an experimental feature and subject to change. Please do not use them for anything important until they are released as stable. (Triggered internally at  /pytorch/c10/core/TensorImpl.h:1156.)\n",
      "  return torch.max_pool2d(input, kernel_size, stride, padding, dilation, ceil_mode)\n",
      "[>>>>>>>>>>>>>>>>>>>>>>>>         ] 45/60, 6.2 task/s, elapsed: 7s, ETA:     2slibpng warning: iCCP: known incorrect sRGB profile\n",
      "[>>>>>>>>>>>>>>>>>>>>>>>>>>>>>>>>] 60/60, 6.2 task/s, elapsed: 10s, ETA:     0s\n",
      "---------------iou_thr: 0.5---------------\n",
      "\n",
      "+--------+-----+------+--------+-------+\n",
      "| class  | gts | dets | recall | ap    |\n",
      "+--------+-----+------+--------+-------+\n",
      "| apple  | 35  | 65   | 1.000  | 0.953 |\n",
      "| banana | 40  | 211  | 1.000  | 0.833 |\n",
      "| orange | 42  | 98   | 0.976  | 0.954 |\n",
      "+--------+-----+------+--------+-------+\n",
      "| mAP    |     |      |        | 0.913 |\n",
      "+--------+-----+------+--------+-------+\n",
      "OrderedDict([('AP50', 0.913), ('mAP', 0.9133558869361877)])\n"
     ]
    }
   ],
   "source": [
    "!python mmdetection/tools/test.py config.py tutorial_exps/latest.pth --eval mAP --show-dir result"
   ]
  }
 ],
 "metadata": {
  "kernelspec": {
   "display_name": "base",
   "language": "python",
   "name": "python3"
  },
  "language_info": {
   "codemirror_mode": {
    "name": "ipython",
    "version": 3
   },
   "file_extension": ".py",
   "mimetype": "text/x-python",
   "name": "python",
   "nbconvert_exporter": "python",
   "pygments_lexer": "ipython3",
   "version": "3.9.13 (main, Aug 25 2022, 23:26:10) \n[GCC 11.2.0]"
  },
  "orig_nbformat": 4,
  "vscode": {
   "interpreter": {
    "hash": "3a5effd077ce65fd3d6887be4df3351d11550bddb6e8443d48cf1082d65c26f4"
   }
  }
 },
 "nbformat": 4,
 "nbformat_minor": 2
}
